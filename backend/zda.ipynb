{
 "cells": [
  {
   "cell_type": "code",
   "execution_count": 1,
   "id": "c87a6907",
   "metadata": {},
   "outputs": [],
   "source": [
    "import pandas as pd\n",
    "import numpy as np\n",
    "import matplotlib.pyplot as plt\n",
    "import seaborn as sns\n",
    "\n",
    "# Set style for plots\n",
    "sns.set(style=\"whitegrid\")"
   ]
  },
  {
   "cell_type": "code",
   "execution_count": null,
   "id": "e0a6812e",
   "metadata": {},
   "outputs": [
    {
     "name": "stderr",
     "output_type": "stream",
     "text": [
      "  2%|▏         | 1.05M/52.2M [00:40<16:54, 50.4kB/s]"
     ]
    }
   ],
   "source": [
    "# List of Google Drive URLs (in export/download format)\n",
    "url_list = [\n",
    "    'https://drive.google.com/uc?id=1kTIR01TlaxV47CSdLz-zLKl9cdU_Yoeb',\n",
    "]\n",
    "\n",
    "# Install gdown if not already installed\n",
    "%pip install gdown\n",
    "\n",
    "# Import necessary modules\n",
    "import gdown  # For downloading files from Google Drive\n",
    "import os     # For file path operations\n",
    "\n",
    "# Define directory to save downloaded files\n",
    "save_path = 'data'\n",
    "\n",
    "# Check if the save directory exists; if not, create it\n",
    "if not os.path.exists(save_path):\n",
    "    os.makedirs(save_path)\n",
    "\n",
    "# List of filenames to use for the downloaded files\n",
    "filename_list = ['unswnb15_dataset.csv']\n",
    "\n",
    "# Iterate through each file and URL together\n",
    "for filename, url in zip(filename_list, url_list):\n",
    "    # Create the full path where the file will be saved\n",
    "    output = os.path.join(save_path, filename)\n",
    "\n",
    "    # Download the file from Google Drive to the specified path\n",
    "    gdown.download(url, output, quiet=False)  # quiet=False shows progress\n"
   ]
  },
  {
   "cell_type": "code",
   "execution_count": 7,
   "id": "05b07409",
   "metadata": {},
   "outputs": [
    {
     "ename": "SyntaxError",
     "evalue": "(unicode error) 'unicodeescape' codec can't decode bytes in position 7-8: truncated \\uXXXX escape (2311156964.py, line 2)",
     "output_type": "error",
     "traceback": [
      "\u001b[1;36m  Cell \u001b[1;32mIn[7], line 2\u001b[1;36m\u001b[0m\n\u001b[1;33m    URL = \"dataset\\unswnb15_dataset.csv\"\u001b[0m\n\u001b[1;37m                                        ^\u001b[0m\n\u001b[1;31mSyntaxError\u001b[0m\u001b[1;31m:\u001b[0m (unicode error) 'unicodeescape' codec can't decode bytes in position 7-8: truncated \\uXXXX escape\n"
     ]
    }
   ],
   "source": [
    "dataset_name = 'UNSWNB15'\n",
    "URL = r\"dataset\\unswnb15_dataset.csv\"\n",
    "\n",
    "df = pd.read_csv(URL)\n",
    "df = df.iloc[:, 1:]\n",
    "print(df.shape)\n",
    "df.head()"
   ]
  }
 ],
 "metadata": {
  "kernelspec": {
   "display_name": "Python 3",
   "language": "python",
   "name": "python3"
  },
  "language_info": {
   "codemirror_mode": {
    "name": "ipython",
    "version": 3
   },
   "file_extension": ".py",
   "mimetype": "text/x-python",
   "name": "python",
   "nbconvert_exporter": "python",
   "pygments_lexer": "ipython3",
   "version": "3.10.0"
  }
 },
 "nbformat": 4,
 "nbformat_minor": 5
}
